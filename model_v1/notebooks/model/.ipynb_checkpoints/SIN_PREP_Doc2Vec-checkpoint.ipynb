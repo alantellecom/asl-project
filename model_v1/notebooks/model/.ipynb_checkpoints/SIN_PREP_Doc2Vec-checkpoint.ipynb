{
 "cells": [
  {
   "cell_type": "markdown",
   "id": "9120ae90",
   "metadata": {},
   "source": [
    "# Doc2Vec"
   ]
  },
  {
   "cell_type": "code",
   "execution_count": 20,
   "id": "1fbe43ac-4111-4f27-bfe6-9e382653bbb6",
   "metadata": {
    "collapsed": true,
    "jupyter": {
     "outputs_hidden": true
    },
    "tags": []
   },
   "outputs": [
    {
     "name": "stdout",
     "output_type": "stream",
     "text": []
    },
    {
     "name": "stdout",
     "output_type": "stream",
     "text": []
    },
    {
     "name": "stdout",
     "output_type": "stream",
     "text": []
    },
    {
     "name": "stdout",
     "output_type": "stream",
     "text": []
    },
    {
     "name": "stdout",
     "output_type": "stream",
     "text": []
    },
    {
     "name": "stdout",
     "output_type": "stream",
     "text": []
    },
    {
     "name": "stdout",
     "output_type": "stream",
     "text": []
    },
    {
     "name": "stdout",
     "output_type": "stream",
     "text": []
    },
    {
     "name": "stdout",
     "output_type": "stream",
     "text": []
    },
    {
     "name": "stdout",
     "output_type": "stream",
     "text": []
    },
    {
     "name": "stdout",
     "output_type": "stream",
     "text": []
    },
    {
     "name": "stdout",
     "output_type": "stream",
     "text": []
    },
    {
     "name": "stdout",
     "output_type": "stream",
     "text": []
    },
    {
     "name": "stdout",
     "output_type": "stream",
     "text": []
    },
    {
     "name": "stdout",
     "output_type": "stream",
     "text": []
    },
    {
     "name": "stdout",
     "output_type": "stream",
     "text": []
    },
    {
     "name": "stdout",
     "output_type": "stream",
     "text": []
    },
    {
     "name": "stdout",
     "output_type": "stream",
     "text": []
    },
    {
     "name": "stdout",
     "output_type": "stream",
     "text": []
    },
    {
     "name": "stdout",
     "output_type": "stream",
     "text": []
    },
    {
     "name": "stdout",
     "output_type": "stream",
     "text": []
    },
    {
     "name": "stdout",
     "output_type": "stream",
     "text": []
    },
    {
     "name": "stdout",
     "output_type": "stream",
     "text": []
    },
    {
     "name": "stdout",
     "output_type": "stream",
     "text": []
    },
    {
     "name": "stdout",
     "output_type": "stream",
     "text": []
    },
    {
     "name": "stdout",
     "output_type": "stream",
     "text": []
    },
    {
     "name": "stdout",
     "output_type": "stream",
     "text": []
    },
    {
     "name": "stdout",
     "output_type": "stream",
     "text": []
    },
    {
     "name": "stdout",
     "output_type": "stream",
     "text": []
    },
    {
     "name": "stdout",
     "output_type": "stream",
     "text": []
    },
    {
     "name": "stdout",
     "output_type": "stream",
     "text": []
    },
    {
     "name": "stdout",
     "output_type": "stream",
     "text": []
    },
    {
     "name": "stdout",
     "output_type": "stream",
     "text": []
    },
    {
     "name": "stdout",
     "output_type": "stream",
     "text": []
    },
    {
     "name": "stdout",
     "output_type": "stream",
     "text": []
    },
    {
     "name": "stdout",
     "output_type": "stream",
     "text": []
    },
    {
     "name": "stdout",
     "output_type": "stream",
     "text": []
    },
    {
     "name": "stdout",
     "output_type": "stream",
     "text": []
    },
    {
     "name": "stdout",
     "output_type": "stream",
     "text": []
    },
    {
     "name": "stdout",
     "output_type": "stream",
     "text": []
    },
    {
     "name": "stdout",
     "output_type": "stream",
     "text": []
    },
    {
     "name": "stdout",
     "output_type": "stream",
     "text": []
    },
    {
     "name": "stdout",
     "output_type": "stream",
     "text": []
    },
    {
     "name": "stdout",
     "output_type": "stream",
     "text": []
    },
    {
     "name": "stdout",
     "output_type": "stream",
     "text": []
    },
    {
     "name": "stdout",
     "output_type": "stream",
     "text": []
    },
    {
     "name": "stdout",
     "output_type": "stream",
     "text": []
    },
    {
     "name": "stdout",
     "output_type": "stream",
     "text": []
    },
    {
     "name": "stdout",
     "output_type": "stream",
     "text": []
    },
    {
     "name": "stdout",
     "output_type": "stream",
     "text": []
    },
    {
     "name": "stdout",
     "output_type": "stream",
     "text": []
    },
    {
     "name": "stdout",
     "output_type": "stream",
     "text": []
    },
    {
     "name": "stdout",
     "output_type": "stream",
     "text": []
    },
    {
     "name": "stdout",
     "output_type": "stream",
     "text": []
    },
    {
     "name": "stdout",
     "output_type": "stream",
     "text": []
    },
    {
     "name": "stdout",
     "output_type": "stream",
     "text": []
    },
    {
     "name": "stdout",
     "output_type": "stream",
     "text": []
    },
    {
     "name": "stdout",
     "output_type": "stream",
     "text": []
    },
    {
     "name": "stdout",
     "output_type": "stream",
     "text": []
    },
    {
     "name": "stdout",
     "output_type": "stream",
     "text": []
    },
    {
     "name": "stdout",
     "output_type": "stream",
     "text": []
    },
    {
     "name": "stdout",
     "output_type": "stream",
     "text": []
    },
    {
     "name": "stdout",
     "output_type": "stream",
     "text": []
    },
    {
     "name": "stdout",
     "output_type": "stream",
     "text": []
    },
    {
     "name": "stdout",
     "output_type": "stream",
     "text": []
    },
    {
     "name": "stdout",
     "output_type": "stream",
     "text": []
    },
    {
     "name": "stdout",
     "output_type": "stream",
     "text": []
    },
    {
     "name": "stdout",
     "output_type": "stream",
     "text": []
    },
    {
     "name": "stdout",
     "output_type": "stream",
     "text": []
    },
    {
     "name": "stdout",
     "output_type": "stream",
     "text": []
    },
    {
     "name": "stdout",
     "output_type": "stream",
     "text": []
    },
    {
     "name": "stdout",
     "output_type": "stream",
     "text": []
    },
    {
     "name": "stdout",
     "output_type": "stream",
     "text": []
    },
    {
     "name": "stdout",
     "output_type": "stream",
     "text": []
    },
    {
     "name": "stdout",
     "output_type": "stream",
     "text": []
    },
    {
     "name": "stdout",
     "output_type": "stream",
     "text": []
    },
    {
     "name": "stdout",
     "output_type": "stream",
     "text": []
    },
    {
     "name": "stdout",
     "output_type": "stream",
     "text": []
    },
    {
     "name": "stdout",
     "output_type": "stream",
     "text": []
    },
    {
     "name": "stdout",
     "output_type": "stream",
     "text": []
    },
    {
     "name": "stdout",
     "output_type": "stream",
     "text": []
    },
    {
     "name": "stdout",
     "output_type": "stream",
     "text": []
    },
    {
     "name": "stdout",
     "output_type": "stream",
     "text": []
    },
    {
     "name": "stdout",
     "output_type": "stream",
     "text": []
    },
    {
     "name": "stdout",
     "output_type": "stream",
     "text": []
    },
    {
     "name": "stdout",
     "output_type": "stream",
     "text": []
    },
    {
     "name": "stdout",
     "output_type": "stream",
     "text": []
    },
    {
     "name": "stdout",
     "output_type": "stream",
     "text": []
    },
    {
     "name": "stdout",
     "output_type": "stream",
     "text": []
    },
    {
     "name": "stdout",
     "output_type": "stream",
     "text": []
    },
    {
     "name": "stdout",
     "output_type": "stream",
     "text": []
    },
    {
     "name": "stdout",
     "output_type": "stream",
     "text": []
    },
    {
     "name": "stdout",
     "output_type": "stream",
     "text": []
    },
    {
     "name": "stdout",
     "output_type": "stream",
     "text": []
    },
    {
     "name": "stdout",
     "output_type": "stream",
     "text": []
    },
    {
     "name": "stdout",
     "output_type": "stream",
     "text": []
    },
    {
     "name": "stdout",
     "output_type": "stream",
     "text": []
    },
    {
     "name": "stdout",
     "output_type": "stream",
     "text": []
    },
    {
     "name": "stdout",
     "output_type": "stream",
     "text": []
    },
    {
     "name": "stdout",
     "output_type": "stream",
     "text": []
    },
    {
     "name": "stdout",
     "output_type": "stream",
     "text": []
    },
    {
     "name": "stdout",
     "output_type": "stream",
     "text": []
    },
    {
     "name": "stdout",
     "output_type": "stream",
     "text": []
    },
    {
     "name": "stdout",
     "output_type": "stream",
     "text": []
    },
    {
     "name": "stdout",
     "output_type": "stream",
     "text": []
    },
    {
     "name": "stdout",
     "output_type": "stream",
     "text": []
    },
    {
     "name": "stdout",
     "output_type": "stream",
     "text": []
    },
    {
     "name": "stdout",
     "output_type": "stream",
     "text": []
    },
    {
     "name": "stdout",
     "output_type": "stream",
     "text": []
    },
    {
     "name": "stdout",
     "output_type": "stream",
     "text": []
    },
    {
     "name": "stdout",
     "output_type": "stream",
     "text": []
    },
    {
     "name": "stdout",
     "output_type": "stream",
     "text": []
    },
    {
     "name": "stdout",
     "output_type": "stream",
     "text": []
    },
    {
     "name": "stdout",
     "output_type": "stream",
     "text": []
    },
    {
     "name": "stdout",
     "output_type": "stream",
     "text": []
    },
    {
     "name": "stdout",
     "output_type": "stream",
     "text": []
    },
    {
     "name": "stdout",
     "output_type": "stream",
     "text": []
    },
    {
     "name": "stdout",
     "output_type": "stream",
     "text": []
    },
    {
     "name": "stdout",
     "output_type": "stream",
     "text": []
    },
    {
     "name": "stdout",
     "output_type": "stream",
     "text": []
    },
    {
     "name": "stdout",
     "output_type": "stream",
     "text": []
    },
    {
     "name": "stdout",
     "output_type": "stream",
     "text": []
    },
    {
     "name": "stdout",
     "output_type": "stream",
     "text": []
    },
    {
     "name": "stdout",
     "output_type": "stream",
     "text": []
    },
    {
     "name": "stdout",
     "output_type": "stream",
     "text": []
    },
    {
     "name": "stdout",
     "output_type": "stream",
     "text": []
    },
    {
     "name": "stdout",
     "output_type": "stream",
     "text": []
    },
    {
     "name": "stdout",
     "output_type": "stream",
     "text": []
    },
    {
     "name": "stdout",
     "output_type": "stream",
     "text": []
    },
    {
     "name": "stdout",
     "output_type": "stream",
     "text": []
    },
    {
     "name": "stdout",
     "output_type": "stream",
     "text": []
    },
    {
     "name": "stdout",
     "output_type": "stream",
     "text": []
    },
    {
     "name": "stdout",
     "output_type": "stream",
     "text": []
    },
    {
     "name": "stdout",
     "output_type": "stream",
     "text": []
    },
    {
     "name": "stdout",
     "output_type": "stream",
     "text": []
    },
    {
     "name": "stdout",
     "output_type": "stream",
     "text": []
    },
    {
     "name": "stdout",
     "output_type": "stream",
     "text": []
    },
    {
     "name": "stdout",
     "output_type": "stream",
     "text": []
    },
    {
     "name": "stdout",
     "output_type": "stream",
     "text": []
    },
    {
     "name": "stdout",
     "output_type": "stream",
     "text": []
    },
    {
     "name": "stdout",
     "output_type": "stream",
     "text": []
    },
    {
     "name": "stdout",
     "output_type": "stream",
     "text": []
    },
    {
     "name": "stdout",
     "output_type": "stream",
     "text": []
    },
    {
     "name": "stdout",
     "output_type": "stream",
     "text": []
    },
    {
     "name": "stdout",
     "output_type": "stream",
     "text": []
    },
    {
     "name": "stdout",
     "output_type": "stream",
     "text": []
    },
    {
     "name": "stdout",
     "output_type": "stream",
     "text": []
    },
    {
     "name": "stdout",
     "output_type": "stream",
     "text": []
    },
    {
     "name": "stdout",
     "output_type": "stream",
     "text": []
    },
    {
     "name": "stdout",
     "output_type": "stream",
     "text": []
    },
    {
     "name": "stdout",
     "output_type": "stream",
     "text": []
    },
    {
     "name": "stdout",
     "output_type": "stream",
     "text": []
    },
    {
     "name": "stdout",
     "output_type": "stream",
     "text": []
    },
    {
     "name": "stdout",
     "output_type": "stream",
     "text": []
    },
    {
     "name": "stdout",
     "output_type": "stream",
     "text": [
      "Collecting gensim\n",
      "  Downloading gensim-4.1.2-cp37-cp37m-manylinux_2_12_x86_64.manylinux2010_x86_64.whl (24.1 MB)\n",
      "\u001b[K     |████████████████████████████████| 24.1 MB 5.2 kB/s eta 0:00:01     |██████████████████▌             | 13.9 MB 2.8 MB/s eta 0:00:04\n",
      "\u001b[?25hRequirement already satisfied: scipy>=0.18.1 in /home/alan/miniconda3/envs/dev/lib/python3.7/site-packages (from gensim) (1.6.2)\n",
      "Requirement already satisfied: numpy>=1.17.0 in /home/alan/miniconda3/envs/dev/lib/python3.7/site-packages (from gensim) (1.19.2)\n",
      "Collecting smart-open>=1.8.1\n",
      "  Downloading smart_open-5.2.1-py3-none-any.whl (58 kB)\n",
      "\u001b[K     |████████████████████████████████| 58 kB 536 kB/s eta 0:00:01\n",
      "\u001b[?25hInstalling collected packages: smart-open, gensim\n",
      "Successfully installed gensim-4.1.2 smart-open-5.2.1\n"
     ]
    }
   ],
   "source": [
    "!pip install gensim"
   ]
  },
  {
   "cell_type": "code",
   "execution_count": 6,
   "id": "1e0f3bae",
   "metadata": {},
   "outputs": [],
   "source": [
    "import gensim\n",
    "from gensim.models.doc2vec import Doc2Vec\n",
    "\n",
    "import pandas as pd\n",
    "\n",
    "import ast\n",
    "\n",
    "from sklearn.cluster import KMeans\n",
    "from sklearn.metrics.pairwise import cosine_similarity\n",
    "import numpy as np\n",
    "import mlflow"
   ]
  },
  {
   "cell_type": "code",
   "execution_count": 30,
   "id": "d075bcea-5292-45ca-87f9-c302c672d768",
   "metadata": {},
   "outputs": [
    {
     "data": {
      "text/plain": [
       "array(['FILME'], dtype=object)"
      ]
     },
     "execution_count": 30,
     "metadata": {},
     "output_type": "execute_result"
    }
   ],
   "source": [
    "df_1 = pd.read_csv('../data/prep/sinopses_prep_to_ML.csv')\n",
    "df_1['tipo'].unique()"
   ]
  },
  {
   "cell_type": "code",
   "execution_count": 4,
   "id": "d146b79d-00dc-4c98-afab-1c6174e8a81c",
   "metadata": {},
   "outputs": [],
   "source": [
    "df = pd.read_csv('../data/prep/sinopses_prep_to_ML.csv')\n",
    "df = df.dropna(subset=['token_noStopW_stemm'])\n",
    "df['token_noStopW_stemm'] = df['token_noStopW_stemm'].apply(ast.literal_eval)\n",
    "df = df[['sk_criativo','token_noStopW_stemm','sent_noStopW_stemm','sinopse_prep']].reset_index(drop=True).copy()"
   ]
  },
  {
   "cell_type": "code",
   "execution_count": 83,
   "id": "99c4af6f-7406-4a0e-83e5-c8db58843923",
   "metadata": {},
   "outputs": [],
   "source": [
    "vec_size = 200\n",
    "epochs = 150"
   ]
  },
  {
   "cell_type": "code",
   "execution_count": 85,
   "id": "8e054815",
   "metadata": {
    "tags": []
   },
   "outputs": [],
   "source": [
    "documents_d2v = [gensim.models.doc2vec.TaggedDocument(doc, [i]) for i, doc in enumerate(df['sent_noStopW_stemm'])]\n",
    "model_d2v = gensim.models.doc2vec.Doc2Vec(vector_size= vec_size, min_count=1, workers=4, epochs=epochs)\n",
    "model_d2v.build_vocab(documents_d2v)\n",
    "model_d2v.train(documents_d2v, total_examples=model_d2v.corpus_count, epochs=epochs)"
   ]
  },
  {
   "cell_type": "code",
   "execution_count": 86,
   "id": "3ec4f42d-b6d4-4688-9e5d-3a48d097ff49",
   "metadata": {},
   "outputs": [],
   "source": [
    "model_d2v.save('model_doc2vec/model')"
   ]
  },
  {
   "cell_type": "code",
   "execution_count": 7,
   "id": "1cc693e8-4819-48b8-89e4-3c86bbd3218c",
   "metadata": {},
   "outputs": [],
   "source": [
    "model_d2v = Doc2Vec.load('model_doc2vec/model')"
   ]
  },
  {
   "cell_type": "code",
   "execution_count": 8,
   "id": "67a0bd3b",
   "metadata": {},
   "outputs": [
    {
     "data": {
      "text/plain": [
       "(54563, 200)"
      ]
     },
     "execution_count": 8,
     "metadata": {},
     "output_type": "execute_result"
    }
   ],
   "source": [
    "vectors_list=[model_d2v.dv[n] for n in range(len(model_d2v.dv))]\n",
    "emb_mx = np.stack(vectors_list,axis=0)\n",
    "emb_mx.shape"
   ]
  },
  {
   "cell_type": "code",
   "execution_count": 15,
   "id": "a0c69317-a4c6-4db6-b00c-350c740bff26",
   "metadata": {
    "tags": []
   },
   "outputs": [
    {
     "data": {
      "text/plain": [
       "8     3171\n",
       "19    2544\n",
       "7     2508\n",
       "26    2286\n",
       "9     2261\n",
       "2     2171\n",
       "29    2117\n",
       "3     2085\n",
       "1     2052\n",
       "16    2002\n",
       "13    1957\n",
       "4     1898\n",
       "20    1883\n",
       "27    1873\n",
       "0     1859\n",
       "5     1777\n",
       "17    1662\n",
       "25    1644\n",
       "14    1643\n",
       "24    1567\n",
       "10    1547\n",
       "23    1484\n",
       "28    1433\n",
       "21    1428\n",
       "11    1409\n",
       "22    1311\n",
       "18    1298\n",
       "15    1277\n",
       "12    1270\n",
       "6     1146\n",
       "Name: cluster, dtype: int64"
      ]
     },
     "execution_count": 15,
     "metadata": {},
     "output_type": "execute_result"
    }
   ],
   "source": [
    "n_clusters = 30\n",
    "\n",
    "km = KMeans(n_clusters=n_clusters)\n",
    "km.fit(emb_mx)\n",
    "clusters = km.labels_.tolist()\n",
    "df[\"cluster\"] = clusters\n",
    "clusters = df['cluster'].value_counts()\n",
    "clusters"
   ]
  },
  {
   "cell_type": "code",
   "execution_count": 16,
   "id": "09682ec9-0590-4ca7-8b88-2421cf0043f4",
   "metadata": {},
   "outputs": [
    {
     "data": {
      "text/plain": [
       "30"
      ]
     },
     "execution_count": 16,
     "metadata": {},
     "output_type": "execute_result"
    }
   ],
   "source": [
    "above5byCluster = clusters[clusters>5].index.values\n",
    "len(above5byCluster)"
   ]
  },
  {
   "cell_type": "code",
   "execution_count": 12,
   "id": "a45e0155-ab33-4299-ad46-6e88804c4d80",
   "metadata": {},
   "outputs": [
    {
     "name": "stdout",
     "output_type": "stream",
     "text": [
      "last index doc vec mx: 54562, last product id after filters: 54562\n"
     ]
    }
   ],
   "source": [
    "prod_ids = df.index.values\n",
    "prod2doc_vec_emb = {x: i for i, x in enumerate(prod_ids)}\n",
    "doc_vec_emb2prod = {i: x for i, x in enumerate(prod_ids)}\n",
    "\n",
    "last_idx_emb_mx= len(emb_mx)-1\n",
    "print('last index doc vec mx: {}, last product id after filters: {}'\n",
    "      .format(last_idx_emb_mx, doc_vec_emb2prod[last_idx_emb_mx]))"
   ]
  },
  {
   "cell_type": "code",
   "execution_count": 20,
   "id": "e4ed84a6-5088-454a-9599-28d7f17ecb0b",
   "metadata": {},
   "outputs": [
    {
     "name": "stdout",
     "output_type": "stream",
     "text": [
      "63.33% dos cluster com similaridade média acima de 0.5\n"
     ]
    }
   ],
   "source": [
    "# Calculate the similarity distance\n",
    "mean_sim_dic = {}\n",
    "for cluster in above5byCluster:\n",
    "    df_aux = pd.DataFrame(df.groupby('cluster').get_group(cluster).index.values)\n",
    "    #df_aux[1]= df_aux[0].map(prod2doc_vec_emb)\n",
    "    #similarity_distance = cosine_similarity(emb_mx[df_aux.loc[:,1].values])\n",
    "    similarity_distance = cosine_similarity(emb_mx[df_aux[0]])\n",
    "    mean_sim_dic[cluster]=similarity_distance.mean()\n",
    "\n",
    "mean_sim_ser = pd.Series(mean_sim_dic)\n",
    "\n",
    "threshold_sim_mean = 0.5\n",
    "per_clusters = (mean_sim_ser>=threshold_sim_mean).sum()/len(above5byCluster)\n",
    "\n",
    "print('{:,.2%} dos cluster com similaridade média acima de {}'.format(per_clusters,threshold_sim_mean))"
   ]
  },
  {
   "cell_type": "code",
   "execution_count": 22,
   "id": "d691c216-82fc-4b8e-823d-3a780cd34313",
   "metadata": {},
   "outputs": [
    {
     "data": {
      "text/plain": [
       "0.5043224821488063"
      ]
     },
     "execution_count": 22,
     "metadata": {},
     "output_type": "execute_result"
    }
   ],
   "source": [
    "mean_sim_ser.mean()"
   ]
  },
  {
   "cell_type": "code",
   "execution_count": 77,
   "id": "ef90945f-3ed9-4dfd-8406-6bf476069c9f",
   "metadata": {},
   "outputs": [
    {
     "data": {
      "text/plain": [
       "[(5256, 0.8960143327713013),\n",
       " (4060, 0.8423855900764465),\n",
       " (23714, 0.8401323556900024),\n",
       " (26075, 0.8361565470695496),\n",
       " (40506, 0.8297924995422363),\n",
       " (24750, 0.8268866539001465),\n",
       " (21438, 0.8256393671035767),\n",
       " (16853, 0.8227827548980713),\n",
       " (42699, 0.8204338550567627),\n",
       " (18164, 0.8192561864852905)]"
      ]
     },
     "execution_count": 77,
     "metadata": {},
     "output_type": "execute_result"
    }
   ],
   "source": [
    "model_d2v.dv.most_similar(40,topn=10)"
   ]
  },
  {
   "cell_type": "code",
   "execution_count": 82,
   "id": "745a917c-f2ba-4b1c-88b0-6d8e83f8f07a",
   "metadata": {
    "collapsed": true,
    "jupyter": {
     "outputs_hidden": true
    },
    "tags": []
   },
   "outputs": [
    {
     "name": "stdout",
     "output_type": "stream",
     "text": [
      "augusto fundou a colonia de ferias pedra da aguia em homenagem a sua esposa que desapareceu num acidente ha dez anos com a ajuda dos amigos domingos e didi ele divide o seu tempo entre o trabalho e os cuidados com a filha lili sonhando em viajar com o pai para novos lugares lili ve num passeio de bote sua chance de viver uma grande aventura  \n",
      "\n",
      "augusto fundou a colonia de ferias pedra da aguia em homenagem a sua esposa que desapareceu num acidente ha dez anos com a ajuda dos amigos domingos e didi ele divide o seu tempo entre o trabalho e os cuidados com a filha lili sonhando em viajar com o pai para novos lugares lili ve num passeio de bote sua chance de viver uma grande aventura  \n",
      "\n",
      "com mais de anos de idade ricki meryl streep e uma cantora de rock que sempre se apresenta com a banda the flash em um pequeno bar a situacao financeira e precaria e ela nao ve os filhos adultos ha decadas um dia o ex marido pete kevin kline liga para ricki avisando que a filha julie mamie gummer foi abandonada pelo marido e pedindo ajuda para tira la de um estado depressivo reticente a mae retorna ao lar e descobre que tanto julie quanto seus dois irmaos tem muito ressentimento por causa do abandono quando eram criancas essa e a oportunidade para ricki fazer as pazes e tentar ser mais presente na vida deles \n",
      "\n",
      "depois que o esquilo scrat involuntariamente provoca um acidente espacial em sua incansavel perseguicao pela noz um enorme meteoro entra em rota de colisao com a terra ameacando o lar de manny diego sid e cia sem saber o que fazer para reverter a situacao eles terao que confiar em buck a eletrica doninha caolha do terceiro filme unico do grupo que realmente tem um plano para evitar o tragico fim de todos paralelamente mannie e ellie tem que lidar com iminente saida de amora de casa ao passo que diego e shira pensam em aumentar a familia e sid finalmente parece encontrar o amor \n",
      "\n",
      "rubens e um professor de natacao carismatico e extrovertido que da aulas para pre adolescentes em um clube querido por todos devido ao seu jeito brincalhao e parceiro ele se ve em apuros quando um de seus alunos alex diz a mae que o professor lhe deu um beijo na boca no vestiario alegando inocencia rubens e acusado pelos pais da crianca e passa a ter que lidar com um verdadeiro linchamento virtual que tem inicio atraves de mensagens de whatsapp e explode de vez quando chega ao facebook \n",
      "\n",
      "arlene michelle williams e betsy kirsten dunst sao duas adolescentes que estao num grupo de excursao em plena casa branca so que ao se afastarem do grupo elas terminam vendo uma secao secreta em que a equipe do presidente richard nixon esta rasgando importantes papeis comprometedores ao governo buscando descobrir o quanto as duas garotas sabem nixon resolve contrata las como funcionarias oficiais da casa branca para passearem com cachorros mas nao ira demorar muito ate que arlene e betsy desvendem toda a verdade por tras do presidente \n",
      "\n",
      "plantonista de um necroterio stenio daniel de oliveira possui um dom paranormal de se comunicar com os mortos trabalhando a noite ele ja esta acostumado a ouvir relatos do alem porem quando essas conversas revelam segredos sobre sua propria vida o homem ativa uma maldicao perigosa para si e todos a sua volta \n",
      "\n",
      "inicio do seculo dezenove em uma fazenda imponente e decadente situada na regiao dos diamantes em minas gerais brancos negros nativos e recem chegados da africa sofrem com os conflitos e a incomunicabilidade gerada pela solidao e pelas tensoes raciais e de genero em um pais que passa por um forte periodo de mudanca \n",
      "\n",
      "quando um desastre de aviao tira a vida dos membros do filme de futebol americano da universidade de marshall e de alguns de seus fas o novo treinador da equipe e alguns sobreviventes do acidente farao de tudo para remontar o time \n",
      "\n",
      "documentario que conta a historia da roxy music desde sua origem ate os ultimos shows incluindo entrevistas com seus membros bryan ferry phil manzanera andy mackay paul thompson brian eno e eddie jobson e fas \n",
      "\n",
      "albuns classicos sao resgatados e suas historias sao recontadas para que eles nunca caiam no esquecimento neste documentario black sabbath de ozzy osbourne faz parte da historia do heavy metal mundial \n",
      "\n"
     ]
    }
   ],
   "source": [
    "print('{} \\n'.format(df.loc[0,'sinopse_prep']))\n",
    "top_10 = model_d2v.dv.most_similar(0,topn=10)\n",
    "for id, sim in enumerate(top_10):\n",
    "    print('{} \\n'.format(df.loc[id,'sinopse_prep']))"
   ]
  },
  {
   "cell_type": "code",
   "execution_count": null,
   "id": "1005e2bd-0ad2-4a9c-be13-6f342065585d",
   "metadata": {},
   "outputs": [],
   "source": [
    "df.iloc[doc_vec_emb2prod[]]"
   ]
  },
  {
   "cell_type": "code",
   "execution_count": 42,
   "id": "57427e9c-bbee-4689-9418-d29f247bf23b",
   "metadata": {
    "tags": []
   },
   "outputs": [],
   "source": [
    "#idExperiment = mlflow.create_experiment('KMeans over doc2vec')\n",
    "#idExperiment"
   ]
  },
  {
   "cell_type": "code",
   "execution_count": 56,
   "id": "201647ef-7fd3-410a-b2f0-5721582430c8",
   "metadata": {},
   "outputs": [],
   "source": [
    "df.groupby('cluster').get_group(5).head(10)['sinopse_prep'].to_csv('output/cluster_D2V_30.csv')"
   ]
  },
  {
   "cell_type": "code",
   "execution_count": null,
   "id": "32e8cdf3-d9c7-41f2-8013-212adbd3e132",
   "metadata": {},
   "outputs": [],
   "source": [
    "with mlflow.start_run(experiment_id=idExperiment):\n",
    "\n",
    "    mlflow.log_param(\"ngram range\", ngram_range)\n",
    "    mlflow.log_param(\"nº clusters\", n_clusters)\n",
    "    mlflow.log_param(\"nº epochs\", epochs)\n",
    "    mlflow.log_param(\"Embedding size\",vec_size)\n",
    "\n",
    "    mlflow.log_metric(\"threshold similarity mean\", threshold_sim_mean)\n",
    "    mlflow.log_metric(\"percentage of cluster with similarity mean above threshold \", per_clusters)"
   ]
  },
  {
   "cell_type": "code",
   "execution_count": 24,
   "id": "661b763e-974d-421a-9e76-e15b1cb4ad28",
   "metadata": {},
   "outputs": [],
   "source": [
    "df_doc2vec= df[['sk_criativo','cluster']]\n",
    "df_doc2vec.to_csv('doc2vec.csv')"
   ]
  },
  {
   "cell_type": "code",
   "execution_count": null,
   "id": "d2f3cf7c-0d4a-4906-aa50-da2de4f6df5d",
   "metadata": {},
   "outputs": [],
   "source": []
  }
 ],
 "metadata": {
  "kernelspec": {
   "display_name": "Python 3.7 (XPython)",
   "language": "python",
   "name": "xpython"
  },
  "language_info": {
   "file_extension": ".py",
   "mimetype": "text/x-python",
   "name": "python",
   "version": "3.7.10"
  }
 },
 "nbformat": 4,
 "nbformat_minor": 5
}
