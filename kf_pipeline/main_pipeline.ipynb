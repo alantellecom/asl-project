{
 "cells": [
  {
   "cell_type": "code",
   "execution_count": 8,
   "id": "373f2812-05a6-47ca-827c-603569e25858",
   "metadata": {},
   "outputs": [],
   "source": [
    "# !pip install pip install kfp --upgrade"
   ]
  },
  {
   "cell_type": "code",
   "execution_count": 12,
   "id": "6c7f8b74-ca3f-4f96-8910-09c8c5d30e80",
   "metadata": {},
   "outputs": [],
   "source": [
    "# import kfp\n",
    "# from kfp import dsl\n",
    "# from kfp.dsl import Artifact,Dataset,Input, Model, Output, Metrics\n",
    "# from kfp import compiler\n",
    "\n",
    "import kfp\n",
    "import kfp.dsl as dsl\n",
    "from kfp.v2.dsl import component\n",
    "from kfp import compiler\n",
    "\n",
    "# import pipeline.Pre_processing as pre"
   ]
  },
  {
   "cell_type": "code",
   "execution_count": 10,
   "id": "9ab9924d-59bf-4a4d-97d6-f8f3b2facf8b",
   "metadata": {},
   "outputs": [
    {
     "name": "stdout",
     "output_type": "stream",
     "text": [
      "PROJECT_ID = qwiklabs-gcp-04-283b6a867bf7\n"
     ]
    }
   ],
   "source": [
    "REGION = 'us-central1'\n",
    "PROJECT_ID = !(gcloud config get-value core/project)\n",
    "PROJECT_ID = PROJECT_ID[0]\n",
    "print(f'PROJECT_ID = {PROJECT_ID}')"
   ]
  },
  {
   "cell_type": "code",
   "execution_count": null,
   "id": "f29a89c2-ee22-44a7-a670-eedb4672cfb9",
   "metadata": {},
   "outputs": [],
   "source": []
  }
 ],
 "metadata": {
  "environment": {
   "kernel": "python3",
   "name": "tf2-gpu.2-6.m82",
   "type": "gcloud",
   "uri": "gcr.io/deeplearning-platform-release/tf2-gpu.2-6:m82"
  },
  "kernelspec": {
   "display_name": "Python 3",
   "language": "python",
   "name": "python3"
  },
  "language_info": {
   "codemirror_mode": {
    "name": "ipython",
    "version": 3
   },
   "file_extension": ".py",
   "mimetype": "text/x-python",
   "name": "python",
   "nbconvert_exporter": "python",
   "pygments_lexer": "ipython3",
   "version": "3.7.10"
  }
 },
 "nbformat": 4,
 "nbformat_minor": 5
}
