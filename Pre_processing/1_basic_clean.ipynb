{
 "cells": [
  {
   "cell_type": "code",
   "execution_count": 5,
   "id": "b147f679",
   "metadata": {},
   "outputs": [
    {
     "name": "stderr",
     "output_type": "stream",
     "text": [
      "/opt/conda/lib/python3.7/site-packages/ipykernel_launcher.py:6: FutureWarning: Passing a negative integer is deprecated in version 1.0 and will not be supported in future version. Instead, use None to not limit the column width.\n",
      "  \n"
     ]
    }
   ],
   "source": [
    "import re\n",
    "import pandas as pd\n",
    "\n",
    "pd.set_option('display.max_columns', None)\n",
    "pd.set_option('display.expand_frame_repr', False)\n",
    "pd.set_option('max_colwidth', -1)"
   ]
  },
  {
   "cell_type": "markdown",
   "id": "2c88de51",
   "metadata": {},
   "source": [
    "### Read data from IBMS"
   ]
  },
  {
   "cell_type": "code",
   "execution_count": 2,
   "id": "bc98be3f",
   "metadata": {
    "tags": []
   },
   "outputs": [],
   "source": [
    "#%%bigquery df_synopsys_BQ\n",
    "#SELECT * FROM `gglobo-coe-di-gjcd-dev-dev-qa.ASL_project.synopsis_From_IBMS`"
   ]
  },
  {
   "cell_type": "code",
   "execution_count": 3,
   "id": "2316c075",
   "metadata": {},
   "outputs": [],
   "source": [
    "#df_synopsys_BQ.to_csv(\"gs://asl-project-de3c21f6/raw_data/synopsis_From_BQ.csv\", index=False)"
   ]
  },
  {
   "cell_type": "code",
   "execution_count": 6,
   "id": "c16ed2eb",
   "metadata": {},
   "outputs": [
    {
     "data": {
      "text/html": [
       "<div>\n",
       "<style scoped>\n",
       "    .dataframe tbody tr th:only-of-type {\n",
       "        vertical-align: middle;\n",
       "    }\n",
       "\n",
       "    .dataframe tbody tr th {\n",
       "        vertical-align: top;\n",
       "    }\n",
       "\n",
       "    .dataframe thead th {\n",
       "        text-align: right;\n",
       "    }\n",
       "</style>\n",
       "<table border=\"1\" class=\"dataframe\">\n",
       "  <thead>\n",
       "    <tr style=\"text-align: right;\">\n",
       "      <th></th>\n",
       "      <th>type</th>\n",
       "      <th>title</th>\n",
       "      <th>synopsis</th>\n",
       "      <th>genre</th>\n",
       "    </tr>\n",
       "  </thead>\n",
       "  <tbody>\n",
       "    <tr>\n",
       "      <th>0</th>\n",
       "      <td>FILME</td>\n",
       "      <td>Brooklin's Finest</td>\n",
       "      <td>Três policiais do Brooklyn - Eddie Dugan, Tango e Sal -, com carreiras distintas, ficam presos na mesma cena de um crime. Juntos, eles devem solucionar o caso, mas, para isso, serão testadas a lealdade e a moral.</td>\n",
       "      <td>Crime</td>\n",
       "    </tr>\n",
       "    <tr>\n",
       "      <th>1</th>\n",
       "      <td>FILME</td>\n",
       "      <td>Cogan's Trade (Aka: Killing Them Softly)</td>\n",
       "      <td>JACKIE COGAN É UM MATADOR PROFISSIONAL CONTRATADO PARA INVESTIGAR UM ASSALTO, OCORRIDO EM MEIO A UMA PARTIDA DE PÓQUER PROTEGIDA PELA MÁFIA. .</td>\n",
       "      <td>Crime</td>\n",
       "    </tr>\n",
       "    <tr>\n",
       "      <th>2</th>\n",
       "      <td>FILME</td>\n",
       "      <td>Inocência</td>\n",
       "      <td>No Brasil imperial, um médico itinerante conhece uma moça com malária por quem se apaixona, sendo correspondido. Entretanto, o pai da jovem a prometeu para um rico fazendeiro.</td>\n",
       "      <td>Drama</td>\n",
       "    </tr>\n",
       "    <tr>\n",
       "      <th>3</th>\n",
       "      <td>FILME</td>\n",
       "      <td>Beijo Da Mulher-Aranha, O</td>\n",
       "      <td>Nos porões da ditadura latino-americana, dois presos são obrigados a conviver na mesma cela. Molina é condenado por corrupção de menores; Valentin é torturado pelo governo para delatar companheiros.</td>\n",
       "      <td>Drama</td>\n",
       "    </tr>\n",
       "    <tr>\n",
       "      <th>4</th>\n",
       "      <td>FILME</td>\n",
       "      <td>Carandiru</td>\n",
       "      <td>Um médico se oferece para realizar um trabalho de prevenção à AIDS no Carandiru. Lá ele convive com a realidade dos presos, como violência, superlotação e instalações precárias.</td>\n",
       "      <td>Drama</td>\n",
       "    </tr>\n",
       "  </tbody>\n",
       "</table>\n",
       "</div>"
      ],
      "text/plain": [
       "    type                                     title                                                                                                                                                                                                              synopsis  genre\n",
       "0  FILME  Brooklin's Finest                         Três policiais do Brooklyn - Eddie Dugan, Tango e Sal -, com carreiras distintas, ficam presos na mesma cena de um crime. Juntos, eles devem solucionar o caso, mas, para isso, serão testadas a lealdade e a moral.  Crime\n",
       "1  FILME  Cogan's Trade (Aka: Killing Them Softly)  JACKIE COGAN É UM MATADOR PROFISSIONAL CONTRATADO PARA INVESTIGAR UM ASSALTO, OCORRIDO EM MEIO A UMA PARTIDA DE PÓQUER PROTEGIDA PELA MÁFIA. .                                                                        Crime\n",
       "2  FILME  Inocência                                 No Brasil imperial, um médico itinerante conhece uma moça com malária por quem se apaixona, sendo correspondido. Entretanto, o pai da jovem a prometeu para um rico fazendeiro.                                       Drama\n",
       "3  FILME  Beijo Da Mulher-Aranha, O                 Nos porões da ditadura latino-americana, dois presos são obrigados a conviver na mesma cela. Molina é condenado por corrupção de menores; Valentin é torturado pelo governo para delatar companheiros.                Drama\n",
       "4  FILME  Carandiru                                 Um médico se oferece para realizar um trabalho de prevenção à AIDS no Carandiru. Lá ele convive com a realidade dos presos, como violência, superlotação e instalações precárias.                                     Drama"
      ]
     },
     "execution_count": 6,
     "metadata": {},
     "output_type": "execute_result"
    }
   ],
   "source": [
    "df_synopsys_raw = pd.read_csv(\"gs://asl-project-globo-de18f040/data/raw/synopsis_From_BQ.csv\")\n",
    "df_synopsys_raw.head()"
   ]
  },
  {
   "cell_type": "markdown",
   "id": "298531f0",
   "metadata": {},
   "source": [
    "## Dataclean"
   ]
  },
  {
   "cell_type": "code",
   "execution_count": 10,
   "id": "d356e148",
   "metadata": {},
   "outputs": [],
   "source": [
    "def prep_genre(genre):\n",
    "    \n",
    "    output = list()\n",
    "    \n",
    "    for i in genre:\n",
    "        \n",
    "        genre_string = i.strip()\n",
    "        \n",
    "        if len(genre_string) > 0:\n",
    "            output.append(genre_string)\n",
    "        \n",
    "    output_str = ' '.join([str(elem) for elem in output])\n",
    "    \n",
    "    output_uniques =  list(set(output_str.split(' ')))\n",
    "    \n",
    "    final_output = ' '.join([str(elem) for elem in output_uniques])\n",
    "\n",
    "    return final_output"
   ]
  },
  {
   "cell_type": "code",
   "execution_count": 11,
   "id": "dd2ebcfd",
   "metadata": {},
   "outputs": [],
   "source": [
    "def replace_artigo(nome_programa):\n",
    "    aconteceu = 0\n",
    "    if nome_programa[-3:] == \", A\":      \n",
    "        padrao = \", A\"\n",
    "        sub = \"A\"\n",
    "        aconteceu = 1\n",
    "    elif nome_programa[-4:] == \", As\":\n",
    "        padrao = \", As\"\n",
    "        sub = \"As\"\n",
    "        aconteceu = 1\n",
    "    elif nome_programa[-3:] == \", O\":      \n",
    "        padrao = \", O\"\n",
    "        sub = \"O\"\n",
    "        aconteceu = 1\n",
    "    elif nome_programa[-4:] == \", Os\":\n",
    "        padrao = \", Os\"\n",
    "        sub = \"Os\"\n",
    "        aconteceu = 1\n",
    "    elif nome_programa[-5:] == \", The\":\n",
    "        padrao = \", The\"\n",
    "        sub = \"The\"\n",
    "        aconteceu = 1\n",
    "    \n",
    "    if aconteceu == 1:\n",
    "        temp_var = re.sub(padrao,\"\", nome_programa)\n",
    "        return sub + \" \" + temp_var\n",
    "    else:\n",
    "        return nome_programa"
   ]
  },
  {
   "cell_type": "code",
   "execution_count": 12,
   "id": "fbdb23ae",
   "metadata": {},
   "outputs": [
    {
     "data": {
      "text/plain": [
       "(1618, 4)"
      ]
     },
     "execution_count": 12,
     "metadata": {},
     "output_type": "execute_result"
    }
   ],
   "source": [
    "df_synopsys_raw['title'] = df_synopsys_raw['title'].apply(lambda x: replace_artigo(x))\n",
    "df_synopsys_raw['genre'] = df_synopsys_raw['genre'].str.replace(\"|\", \",\", regex=True)\n",
    "df_synopsys_raw['genre'] = df_synopsys_raw['genre'].str.replace(\"/\", \",\", regex=True)\n",
    "df_synopsys_raw['genre'] = df_synopsys_raw['genre'].apply(lambda x: x.split(','))\n",
    "df_synopsys_raw['genre'] = df_synopsys_raw['genre'].apply(lambda x: prep_genre(x))\n",
    "df_synopsys_raw['genre'] = df_synopsys_raw[['type', 'title', 'genre']].groupby(['type', 'title'])['genre'].transform(lambda x: ' '.join(x))\n",
    "df_synopsys_raw['synopsis_count'] = df_synopsys_raw['synopsis'].apply(lambda x: len(x))\n",
    "df_synopsys_raw['synopsis_max'] = df_synopsys_raw[['type', 'title', 'synopsis','synopsis_count']].groupby(['type', 'title'])['synopsis_count'].transform(max)\n",
    "df_synopsys_raw = df_synopsys_raw[df_synopsys_raw.synopsis_count == df_synopsys_raw.synopsis_max][['type', 'title', 'synopsis', 'genre']]\n",
    "df_synopsys_raw['genre'] = df_synopsys_raw['genre'].apply(lambda x: list(set(x.split(\" \"))))\n",
    "df_synopsys_raw['genre'] = df_synopsys_raw['genre'].apply(lambda x: \" \".join(x))\n",
    "\n",
    "df_final = df_synopsys_raw[['type', 'title', 'synopsis','genre']].groupby(['type', 'title', 'synopsis','genre']).size().reset_index(name = \"count_duplicates\")\n",
    "\n",
    "df_final = df_final[['type', 'title', 'synopsis', 'genre']]\n",
    "\n",
    "df_final.shape"
   ]
  },
  {
   "cell_type": "code",
   "execution_count": 13,
   "id": "75157000",
   "metadata": {},
   "outputs": [],
   "source": [
    "df_final.to_csv(\"gs://asl-project-globo-de18f040/data/raw/synopsis_clean.csv\", index=False)"
   ]
  },
  {
   "cell_type": "code",
   "execution_count": null,
   "id": "70d12301-228b-4811-bdd7-c0c85b72fc5d",
   "metadata": {},
   "outputs": [],
   "source": []
  }
 ],
 "metadata": {
  "environment": {
   "kernel": "python3",
   "name": "tf2-gpu.2-6.m82",
   "type": "gcloud",
   "uri": "gcr.io/deeplearning-platform-release/tf2-gpu.2-6:m82"
  },
  "kernelspec": {
   "display_name": "Python 3",
   "language": "python",
   "name": "python3"
  },
  "language_info": {
   "codemirror_mode": {
    "name": "ipython",
    "version": 3
   },
   "file_extension": ".py",
   "mimetype": "text/x-python",
   "name": "python",
   "nbconvert_exporter": "python",
   "pygments_lexer": "ipython3",
   "version": "3.7.10"
  }
 },
 "nbformat": 4,
 "nbformat_minor": 5
}
